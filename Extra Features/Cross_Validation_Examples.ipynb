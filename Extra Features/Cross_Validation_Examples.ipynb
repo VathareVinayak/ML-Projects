{
  "nbformat": 4,
  "nbformat_minor": 0,
  "metadata": {
    "colab": {
      "provenance": []
    },
    "kernelspec": {
      "name": "python3",
      "display_name": "Python 3"
    },
    "language_info": {
      "name": "python"
    }
  },
  "cells": [
    {
      "cell_type": "markdown",
      "source": [
        "There are several types of cross validations into the ML\n",
        "1) Time Series Cross-Validation\n",
        "2)"
      ],
      "metadata": {
        "id": "8Jajbswo6Ae_"
      }
    },
    {
      "cell_type": "code",
      "execution_count": 2,
      "metadata": {
        "id": "qn9TeRkc56md"
      },
      "outputs": [],
      "source": [
        "import numpy as np\n",
        "import pandas as pd\n",
        "import matplotlib.pyplot as plt\n",
        "import seaborn as sns\n",
        "from sklearn.model_selection import TimeSeriesSplit\n"
      ]
    },
    {
      "cell_type": "code",
      "source": [
        "data = np.array([1, 2, 3, 4, 5, 6, 7, 8, 9])\n"
      ],
      "metadata": {
        "id": "ECwB5V4m6fN9"
      },
      "execution_count": 3,
      "outputs": []
    },
    {
      "cell_type": "code",
      "source": [
        "tscv = TimeSeriesSplit(n_splits=5)\n",
        "\n",
        "for train_idx ,test_idx in tscv.split(data):\n",
        "  print(\"train_idx :- \",train_idx)\n",
        "  print(\"test_idx:-\",test_idx)\n"
      ],
      "metadata": {
        "colab": {
          "base_uri": "https://localhost:8080/"
        },
        "id": "jMOUTscv6fLg",
        "outputId": "fe7727d4-4a93-45fe-9bcb-0597f23594d2"
      },
      "execution_count": 4,
      "outputs": [
        {
          "output_type": "stream",
          "name": "stdout",
          "text": [
            "train_idx [0 1 2 3]\n",
            "test_idx [4]\n",
            "train_idx [0 1 2 3 4]\n",
            "test_idx [5]\n",
            "train_idx [0 1 2 3 4 5]\n",
            "test_idx [6]\n",
            "train_idx [0 1 2 3 4 5 6]\n",
            "test_idx [7]\n",
            "train_idx [0 1 2 3 4 5 6 7]\n",
            "test_idx [8]\n"
          ]
        }
      ]
    },
    {
      "cell_type": "markdown",
      "source": [
        "2) Leave One Out Cross-Validation\n"
      ],
      "metadata": {
        "id": "SiM9DuS775Fz"
      }
    },
    {
      "cell_type": "code",
      "source": [
        "from sklearn.model_selection import LeaveOneOut\n",
        "import numpy as np\n",
        "\n",
        "data = np.array([1,2,3,4,5,6])"
      ],
      "metadata": {
        "id": "DQ406_3T7Ev3"
      },
      "execution_count": 7,
      "outputs": []
    },
    {
      "cell_type": "code",
      "source": [
        "leaveout = LeaveOneOut()\n",
        "leaveout"
      ],
      "metadata": {
        "colab": {
          "base_uri": "https://localhost:8080/"
        },
        "id": "zIgZ6hHx6fIs",
        "outputId": "39711deb-cd26-45a9-d3b7-332e5c7bfb60"
      },
      "execution_count": 9,
      "outputs": [
        {
          "output_type": "execute_result",
          "data": {
            "text/plain": [
              "LeaveOneOut()"
            ]
          },
          "metadata": {},
          "execution_count": 9
        }
      ]
    },
    {
      "cell_type": "code",
      "source": [
        "for train_idx , test_idx in leaveout.split(data):\n",
        "  print(\"train_idx:-\",train_idx)\n",
        "  print(\"test_idx:-\",test_idx)"
      ],
      "metadata": {
        "colab": {
          "base_uri": "https://localhost:8080/"
        },
        "id": "7kt5a4aW6fF1",
        "outputId": "4186db86-75dd-408d-89ff-be6ba2db8bc2"
      },
      "execution_count": 10,
      "outputs": [
        {
          "output_type": "stream",
          "name": "stdout",
          "text": [
            "train_idx:- [1 2 3 4 5]\n",
            "test_idx:- [0]\n",
            "train_idx:- [0 2 3 4 5]\n",
            "test_idx:- [1]\n",
            "train_idx:- [0 1 3 4 5]\n",
            "test_idx:- [2]\n",
            "train_idx:- [0 1 2 4 5]\n",
            "test_idx:- [3]\n",
            "train_idx:- [0 1 2 3 5]\n",
            "test_idx:- [4]\n",
            "train_idx:- [0 1 2 3 4]\n",
            "test_idx:- [5]\n"
          ]
        }
      ]
    },
    {
      "cell_type": "markdown",
      "source": [
        "3) Hold-Out Cross-Validation"
      ],
      "metadata": {
        "id": "YEaz4qx58mCO"
      }
    },
    {
      "cell_type": "code",
      "source": [
        "from sklearn.model_selection import train_test_split\n",
        "import numpy as np\n",
        "\n",
        "data = np.array([1,2,3,4,5,6])\n",
        "train_idx , test_idx = train_test_split(data,test_size=0.2)\n",
        "print(\"train_idx:-\",train_idx)\n",
        "print(\"test_idx:-\",test_idx)"
      ],
      "metadata": {
        "colab": {
          "base_uri": "https://localhost:8080/"
        },
        "id": "lSLmXPpM6fCo",
        "outputId": "e731c418-8d66-40d7-e516-13ea5f8028ea"
      },
      "execution_count": 13,
      "outputs": [
        {
          "output_type": "stream",
          "name": "stdout",
          "text": [
            "train_idx:- [2 5 3 1]\n",
            "test_idx:- [4 6]\n"
          ]
        }
      ]
    },
    {
      "cell_type": "markdown",
      "source": [
        "4)  K-Fold Cross-Validation"
      ],
      "metadata": {
        "id": "QCDlhHSl85al"
      }
    },
    {
      "cell_type": "code",
      "source": [
        "from sklearn.model_selection import KFold\n",
        "import numpy as np\n",
        "\n",
        "kdata = np.array([1,2,3,4,5,6])\n",
        "kdata\n",
        "\n"
      ],
      "metadata": {
        "colab": {
          "base_uri": "https://localhost:8080/"
        },
        "id": "u__BY23x85On",
        "outputId": "4d6527d9-eaab-4c9c-df30-6af835a08fa4"
      },
      "execution_count": 23,
      "outputs": [
        {
          "output_type": "execute_result",
          "data": {
            "text/plain": [
              "array([1, 2, 3, 4, 5, 6])"
            ]
          },
          "metadata": {},
          "execution_count": 23
        }
      ]
    },
    {
      "cell_type": "code",
      "source": [
        "kf = KFold(n_splits=5, shuffle=True, random_state=42)"
      ],
      "metadata": {
        "id": "B487oMmv85IH"
      },
      "execution_count": 20,
      "outputs": []
    },
    {
      "cell_type": "code",
      "source": [
        "for train_kidx , ktest_idx in kf.split(Data):\n",
        "  print(\"train_idx:-\",train_idx)\n",
        "  print(\"test_idx:-\",test_idx)"
      ],
      "metadata": {
        "colab": {
          "base_uri": "https://localhost:8080/",
          "height": 176
        },
        "id": "5qLXe1MQ85Fl",
        "outputId": "524f480f-9e47-47c3-a87c-7a7a6be712af"
      },
      "execution_count": 22,
      "outputs": [
        {
          "output_type": "error",
          "ename": "NameError",
          "evalue": "name 'Data' is not defined",
          "traceback": [
            "\u001b[0;31m---------------------------------------------------------------------------\u001b[0m",
            "\u001b[0;31mNameError\u001b[0m                                 Traceback (most recent call last)",
            "\u001b[0;32m<ipython-input-22-1c8ca151cf2f>\u001b[0m in \u001b[0;36m<cell line: 0>\u001b[0;34m()\u001b[0m\n\u001b[0;32m----> 1\u001b[0;31m \u001b[0;32mfor\u001b[0m \u001b[0mtrain_idx\u001b[0m \u001b[0;34m,\u001b[0m \u001b[0mtest_idx\u001b[0m \u001b[0;32min\u001b[0m \u001b[0mkf\u001b[0m\u001b[0;34m.\u001b[0m\u001b[0msplit\u001b[0m\u001b[0;34m(\u001b[0m\u001b[0mData\u001b[0m\u001b[0;34m)\u001b[0m\u001b[0;34m:\u001b[0m\u001b[0;34m\u001b[0m\u001b[0;34m\u001b[0m\u001b[0m\n\u001b[0m\u001b[1;32m      2\u001b[0m   \u001b[0mprint\u001b[0m\u001b[0;34m(\u001b[0m\u001b[0;34m\"train_idx:-\"\u001b[0m\u001b[0;34m,\u001b[0m\u001b[0mtrain_idx\u001b[0m\u001b[0;34m)\u001b[0m\u001b[0;34m\u001b[0m\u001b[0;34m\u001b[0m\u001b[0m\n\u001b[1;32m      3\u001b[0m   \u001b[0mprint\u001b[0m\u001b[0;34m(\u001b[0m\u001b[0;34m\"test_idx:-\"\u001b[0m\u001b[0;34m,\u001b[0m\u001b[0mtest_idx\u001b[0m\u001b[0;34m)\u001b[0m\u001b[0;34m\u001b[0m\u001b[0;34m\u001b[0m\u001b[0m\n",
            "\u001b[0;31mNameError\u001b[0m: name 'Data' is not defined"
          ]
        }
      ]
    },
    {
      "cell_type": "markdown",
      "source": [
        "Stratified K-Fold Cross-Validation\n"
      ],
      "metadata": {
        "id": "Ic8rtobs-LU0"
      }
    },
    {
      "cell_type": "code",
      "source": [
        "from sklearn.model_selection import StratifiedKFold\n",
        "import numpy as np\n",
        "\n",
        "# Example Data (Binary Classification Labels)\n",
        "X = np.array([1, 2, 3, 4, 5, 6, 7, 8, 9, 10])\n",
        "y = np.array([0, 0, 1, 1, 0, 1, 0, 1, 0, 1])  # Target labels (imbalanced dataset)\n",
        "\n",
        "skf = StratifiedKFold(n_splits=5, shuffle=True, random_state=42)\n",
        "\n",
        "for train_idx, test_idx in skf.split(X, y):\n",
        "    print(\"Train:\", X[train_idx], \"Test:\", X[test_idx])"
      ],
      "metadata": {
        "colab": {
          "base_uri": "https://localhost:8080/"
        },
        "id": "C7-DR7WQ85C7",
        "outputId": "3bfc1f4f-0f65-41a3-f0dd-b73dc3d2bb63"
      },
      "execution_count": 24,
      "outputs": [
        {
          "output_type": "stream",
          "name": "stdout",
          "text": [
            "Train: [ 1  2  3  4  5  6  9 10] Test: [7 8]\n",
            "Train: [ 2  3  5  6  7  8  9 10] Test: [1 4]\n",
            "Train: [ 1  2  3  4  7  8  9 10] Test: [5 6]\n",
            "Train: [ 1  2  4  5  6  7  8 10] Test: [3 9]\n",
            "Train: [1 3 4 5 6 7 8 9] Test: [ 2 10]\n"
          ]
        }
      ]
    },
    {
      "cell_type": "code",
      "source": [],
      "metadata": {
        "id": "Mj2gijlF85AO"
      },
      "execution_count": null,
      "outputs": []
    },
    {
      "cell_type": "code",
      "source": [],
      "metadata": {
        "id": "NA2-oNLb849v"
      },
      "execution_count": null,
      "outputs": []
    },
    {
      "cell_type": "code",
      "source": [],
      "metadata": {
        "id": "oYZ6YFZK847G"
      },
      "execution_count": null,
      "outputs": []
    }
  ]
}